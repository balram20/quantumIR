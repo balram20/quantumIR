{
 "cells": [
  {
   "cell_type": "code",
   "execution_count": 2,
   "metadata": {},
   "outputs": [
    {
     "name": "stdout",
     "output_type": "stream",
     "text": [
      "Requirement already satisfied: pgmpy in c:\\users\\asus\\appdata\\local\\packages\\pythonsoftwarefoundation.python.3.9_qbz5n2kfra8p0\\localcache\\local-packages\\python39\\site-packages (0.1.23)\n",
      "Collecting pgmpy\n",
      "  Obtaining dependency information for pgmpy from https://files.pythonhosted.org/packages/eb/9a/2fcb6fdfd998a016cef29ca3eab30b98b6c232b6e9a0444df07f0ad47f8d/pgmpy-0.1.24-py3-none-any.whl.metadata\n",
      "  Downloading pgmpy-0.1.24-py3-none-any.whl.metadata (6.3 kB)\n",
      "Requirement already satisfied: networkx in c:\\users\\asus\\appdata\\local\\packages\\pythonsoftwarefoundation.python.3.9_qbz5n2kfra8p0\\localcache\\local-packages\\python39\\site-packages (from pgmpy) (3.1)\n",
      "Requirement already satisfied: numpy in c:\\users\\asus\\appdata\\local\\packages\\pythonsoftwarefoundation.python.3.9_qbz5n2kfra8p0\\localcache\\local-packages\\python39\\site-packages (from pgmpy) (1.23.5)\n",
      "Requirement already satisfied: scipy in c:\\users\\asus\\appdata\\local\\packages\\pythonsoftwarefoundation.python.3.9_qbz5n2kfra8p0\\localcache\\local-packages\\python39\\site-packages (from pgmpy) (1.10.1)\n",
      "Requirement already satisfied: scikit-learn in c:\\users\\asus\\appdata\\local\\packages\\pythonsoftwarefoundation.python.3.9_qbz5n2kfra8p0\\localcache\\local-packages\\python39\\site-packages (from pgmpy) (1.2.2)\n",
      "Requirement already satisfied: pandas in c:\\users\\asus\\appdata\\local\\packages\\pythonsoftwarefoundation.python.3.9_qbz5n2kfra8p0\\localcache\\local-packages\\python39\\site-packages (from pgmpy) (2.0.2)\n",
      "Requirement already satisfied: pyparsing in c:\\users\\asus\\appdata\\local\\packages\\pythonsoftwarefoundation.python.3.9_qbz5n2kfra8p0\\localcache\\local-packages\\python39\\site-packages (from pgmpy) (3.0.9)\n",
      "Requirement already satisfied: torch in c:\\users\\asus\\appdata\\local\\packages\\pythonsoftwarefoundation.python.3.9_qbz5n2kfra8p0\\localcache\\local-packages\\python39\\site-packages (from pgmpy) (2.1.0)\n",
      "Requirement already satisfied: statsmodels in c:\\users\\asus\\appdata\\local\\packages\\pythonsoftwarefoundation.python.3.9_qbz5n2kfra8p0\\localcache\\local-packages\\python39\\site-packages (from pgmpy) (0.14.0)\n",
      "Requirement already satisfied: tqdm in c:\\users\\asus\\appdata\\local\\packages\\pythonsoftwarefoundation.python.3.9_qbz5n2kfra8p0\\localcache\\local-packages\\python39\\site-packages (from pgmpy) (4.65.0)\n",
      "Requirement already satisfied: joblib in c:\\users\\asus\\appdata\\local\\packages\\pythonsoftwarefoundation.python.3.9_qbz5n2kfra8p0\\localcache\\local-packages\\python39\\site-packages (from pgmpy) (1.2.0)\n",
      "Requirement already satisfied: opt-einsum in c:\\users\\asus\\appdata\\local\\packages\\pythonsoftwarefoundation.python.3.9_qbz5n2kfra8p0\\localcache\\local-packages\\python39\\site-packages (from pgmpy) (3.3.0)\n",
      "Requirement already satisfied: python-dateutil>=2.8.2 in c:\\users\\asus\\appdata\\local\\packages\\pythonsoftwarefoundation.python.3.9_qbz5n2kfra8p0\\localcache\\local-packages\\python39\\site-packages (from pandas->pgmpy) (2.8.2)\n",
      "Requirement already satisfied: pytz>=2020.1 in c:\\users\\asus\\appdata\\local\\packages\\pythonsoftwarefoundation.python.3.9_qbz5n2kfra8p0\\localcache\\local-packages\\python39\\site-packages (from pandas->pgmpy) (2023.3)\n",
      "Requirement already satisfied: tzdata>=2022.1 in c:\\users\\asus\\appdata\\local\\packages\\pythonsoftwarefoundation.python.3.9_qbz5n2kfra8p0\\localcache\\local-packages\\python39\\site-packages (from pandas->pgmpy) (2023.3)\n",
      "Requirement already satisfied: threadpoolctl>=2.0.0 in c:\\users\\asus\\appdata\\local\\packages\\pythonsoftwarefoundation.python.3.9_qbz5n2kfra8p0\\localcache\\local-packages\\python39\\site-packages (from scikit-learn->pgmpy) (3.1.0)\n",
      "Requirement already satisfied: patsy>=0.5.2 in c:\\users\\asus\\appdata\\local\\packages\\pythonsoftwarefoundation.python.3.9_qbz5n2kfra8p0\\localcache\\local-packages\\python39\\site-packages (from statsmodels->pgmpy) (0.5.3)\n",
      "Requirement already satisfied: packaging>=21.3 in c:\\users\\asus\\appdata\\local\\packages\\pythonsoftwarefoundation.python.3.9_qbz5n2kfra8p0\\localcache\\local-packages\\python39\\site-packages (from statsmodels->pgmpy) (23.1)\n",
      "Requirement already satisfied: filelock in c:\\users\\asus\\appdata\\local\\packages\\pythonsoftwarefoundation.python.3.9_qbz5n2kfra8p0\\localcache\\local-packages\\python39\\site-packages (from torch->pgmpy) (3.12.4)\n",
      "Requirement already satisfied: typing-extensions in c:\\users\\asus\\appdata\\local\\packages\\pythonsoftwarefoundation.python.3.9_qbz5n2kfra8p0\\localcache\\local-packages\\python39\\site-packages (from torch->pgmpy) (4.6.3)\n",
      "Requirement already satisfied: sympy in c:\\users\\asus\\appdata\\local\\packages\\pythonsoftwarefoundation.python.3.9_qbz5n2kfra8p0\\localcache\\local-packages\\python39\\site-packages (from torch->pgmpy) (1.12)\n",
      "Requirement already satisfied: jinja2 in c:\\users\\asus\\appdata\\local\\packages\\pythonsoftwarefoundation.python.3.9_qbz5n2kfra8p0\\localcache\\local-packages\\python39\\site-packages (from torch->pgmpy) (3.1.2)\n",
      "Requirement already satisfied: fsspec in c:\\users\\asus\\appdata\\local\\packages\\pythonsoftwarefoundation.python.3.9_qbz5n2kfra8p0\\localcache\\local-packages\\python39\\site-packages (from torch->pgmpy) (2023.9.2)\n",
      "Requirement already satisfied: colorama in c:\\users\\asus\\appdata\\local\\packages\\pythonsoftwarefoundation.python.3.9_qbz5n2kfra8p0\\localcache\\local-packages\\python39\\site-packages (from tqdm->pgmpy) (0.4.6)\n",
      "Requirement already satisfied: six in c:\\users\\asus\\appdata\\local\\packages\\pythonsoftwarefoundation.python.3.9_qbz5n2kfra8p0\\localcache\\local-packages\\python39\\site-packages (from patsy>=0.5.2->statsmodels->pgmpy) (1.16.0)\n",
      "Requirement already satisfied: MarkupSafe>=2.0 in c:\\users\\asus\\appdata\\local\\packages\\pythonsoftwarefoundation.python.3.9_qbz5n2kfra8p0\\localcache\\local-packages\\python39\\site-packages (from jinja2->torch->pgmpy) (2.1.3)\n",
      "Requirement already satisfied: mpmath>=0.19 in c:\\users\\asus\\appdata\\local\\packages\\pythonsoftwarefoundation.python.3.9_qbz5n2kfra8p0\\localcache\\local-packages\\python39\\site-packages (from sympy->torch->pgmpy) (1.3.0)\n",
      "Downloading pgmpy-0.1.24-py3-none-any.whl (2.0 MB)\n",
      "   ---------------------------------------- 0.0/2.0 MB ? eta -:--:--\n",
      "   ----- ---------------------------------- 0.3/2.0 MB 5.2 MB/s eta 0:00:01\n",
      "   ------------ --------------------------- 0.6/2.0 MB 6.4 MB/s eta 0:00:01\n",
      "   ------------------ --------------------- 0.9/2.0 MB 6.4 MB/s eta 0:00:01\n",
      "   ---------------------- ----------------- 1.1/2.0 MB 6.5 MB/s eta 0:00:01\n",
      "   ------------------------- -------------- 1.3/2.0 MB 6.1 MB/s eta 0:00:01\n",
      "   ------------------------------ --------- 1.5/2.0 MB 5.3 MB/s eta 0:00:01\n",
      "   ---------------------------------- ----- 1.7/2.0 MB 5.3 MB/s eta 0:00:01\n",
      "   ---------------------------------------  2.0/2.0 MB 5.2 MB/s eta 0:00:01\n",
      "   ---------------------------------------- 2.0/2.0 MB 4.6 MB/s eta 0:00:00\n",
      "Installing collected packages: pgmpy\n",
      "  Attempting uninstall: pgmpy\n",
      "    Found existing installation: pgmpy 0.1.23\n",
      "    Uninstalling pgmpy-0.1.23:\n",
      "      Successfully uninstalled pgmpy-0.1.23\n",
      "Successfully installed pgmpy-0.1.24\n",
      "Note: you may need to restart the kernel to use updated packages.\n"
     ]
    }
   ],
   "source": [
    "pip install --upgrade pgmpy"
   ]
  },
  {
   "cell_type": "code",
   "execution_count": 3,
   "metadata": {},
   "outputs": [
    {
     "name": "stdout",
     "output_type": "stream",
     "text": [
      "+-----------------+---------------------+\n",
      "| HeartDisease    |   phi(HeartDisease) |\n",
      "+=================+=====================+\n",
      "| HeartDisease(0) |              1.0000 |\n",
      "+-----------------+---------------------+\n",
      "| HeartDisease(1) |              0.0000 |\n",
      "+-----------------+---------------------+\n",
      "The patient is likely not to have Heart Disease.\n"
     ]
    }
   ],
   "source": [
    "import pandas as pd\n",
    "from pgmpy.models import BayesianNetwork\n",
    "from pgmpy.estimators import MaximumLikelihoodEstimator\n",
    "from pgmpy.inference import VariableElimination\n",
    "\n",
    "# Load the Heart Disease UCI dataset (replace 'heart_disease.csv' with your dataset path)\n",
    "data = pd.read_csv('heart.csv')\n",
    "\n",
    "# Define the Bayesian network structure\n",
    "model = BayesianNetwork([('Age', 'HeartDisease'), \n",
    "                         ('Sex', 'HeartDisease'),\n",
    "                         ('ChestPainType', 'HeartDisease'),\n",
    "                         ('RestingBP', 'HeartDisease'),\n",
    "                         ('Cholesterol', 'HeartDisease'),\n",
    "                         ('FastingBS', 'HeartDisease'),\n",
    "                         ('RestingECG', 'HeartDisease'),\n",
    "                         ('MaxHR', 'HeartDisease'),\n",
    "                         ('ExerciseAngina', 'HeartDisease'),\n",
    "                         ('Oldpeak', 'HeartDisease'),\n",
    "                         ('ST_Slope', 'HeartDisease')])\n",
    "\n",
    "# Estimate CPDs from data\n",
    "model.fit(data, estimator=MaximumLikelihoodEstimator)\n",
    "\n",
    "# Create an inference object\n",
    "inference = VariableElimination(model)\n",
    "\n",
    "# Provide evidence for diagnosis\n",
    "evidence = {\n",
    "    'Age': 40,\n",
    "    'Sex': 'M',\n",
    "    'ChestPainType': 'ATA',\n",
    "    'RestingBP': 140,\n",
    "    'Cholesterol': 289,\n",
    "    'FastingBS': 0,\n",
    "    'RestingECG': 'Normal',\n",
    "    'MaxHR': 172,\n",
    "    'ExerciseAngina': 'N',\n",
    "    'Oldpeak': 0,\n",
    "    'ST_Slope': 'Up'\n",
    "}\n",
    "\n",
    "# Query the model for the probability of Heart Disease\n",
    "query_result = inference.query(variables=['HeartDisease'], evidence=evidence)\n",
    "print(query_result)\n",
    "\n",
    "# Diagnose the patient based on the probability\n",
    "if query_result.values[1] > query_result.values[0]:\n",
    "    print(\"The patient is likely to have Heart Disease.\")\n",
    "else:\n",
    "    print(\"The patient is likely not to have Heart Disease.\")\n"
   ]
  },
  {
   "cell_type": "code",
   "execution_count": null,
   "metadata": {},
   "outputs": [],
   "source": []
  }
 ],
 "metadata": {
  "kernelspec": {
   "display_name": "Python 3",
   "language": "python",
   "name": "python3"
  },
  "language_info": {
   "codemirror_mode": {
    "name": "ipython",
    "version": 3
   },
   "file_extension": ".py",
   "mimetype": "text/x-python",
   "name": "python",
   "nbconvert_exporter": "python",
   "pygments_lexer": "ipython3",
   "version": "3.9.13"
  },
  "orig_nbformat": 4
 },
 "nbformat": 4,
 "nbformat_minor": 2
}
